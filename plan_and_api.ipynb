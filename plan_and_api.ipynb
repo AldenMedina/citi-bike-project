{
 "cells": [
  {
   "cell_type": "markdown",
   "id": "9fdeb333-f887-44f1-9edd-9f6b546ee603",
   "metadata": {},
   "source": [
    "# Citi Bike Usage vs Weather in NYC (2022)\n",
    "\n",
    "In this project, we explore Citi Bike usage in New York City in relation to daily weather conditions during 2022. Our goal is to discover how\n"
   ]
  },
  {
   "cell_type": "markdown",
   "id": "da404dc7-e9f8-4e78-b66d-839cd936da52",
   "metadata": {},
   "source": [
    "## Data Sources\n",
    "\n",
    "- Citi Bike Trip Data (2022) from Kaggle.\n",
    "- NOAA Weather Data (2022) via API for Central Park, NYC.\n",
    "\n",
    "The trip data was compiled and loaded from multiple CSVs, and the weather data was fetched using the NOAA API and cleaned into a usable format.\n"
   ]
  },
  {
   "cell_type": "markdown",
   "id": "c93b60d0-f915-4580-96fa-309bd57b412b",
   "metadata": {},
   "source": [
    "## 1. Data Loading and Cleaning\n",
    "\n",
    "We load and combine monthly Citi Bike CSV files and clean the data to ensure consistency.\n"
   ]
  },
  {
   "cell_type": "code",
   "execution_count": null,
   "id": "c80bcfdf-55db-4568-a231-576cf6a95969",
   "metadata": {},
   "outputs": [],
   "source": [
    "import pandas as pd\n",
    "from collections import defaultdict\n",
    "\n",
    "file_path = '/Volumes/Untitled/CitiBikeData/combined_2022_trips.csv'\n",
    "chunksize = 100000\n",
    "\n",
    "# Initialize a default dictionary for counting\n",
    "station_counts = defaultdict(int)\n",
    "\n",
    "# Stream through chunks\n",
    "for chunk in pd.read_csv(file_path, chunksize=chunksize, usecols=['start_station_name']):\n",
    "    for station in chunk['start_station_name'].dropna():\n",
    "        station_counts[station] += 1\n",
    "\n",
    "# Convert result to DataFrame\n",
    "top_stations_df = pd.DataFrame(list(station_counts.items()), columns=['Station', 'Count'])\n",
    "top_10 = top_stations_df.sort_values(by='Count', ascending=False).head(10)\n",
    "\n",
    "top_10\n"
   ]
  },
  {
   "cell_type": "markdown",
   "id": "6b708d4f-5f94-4de6-ac32-bdd3e01d5bc9",
   "metadata": {},
   "source": [
    "## 2. Data Overview\n",
    "\n",
    "We display the first few rows of data, check column types, and confirm the shape of the dataset.\n"
   ]
  },
  {
   "cell_type": "markdown",
   "id": "ece0413c-b645-4e3f-9421-e9467f7624f0",
   "metadata": {},
   "source": [
    "The dataset contains 30+ million Citi Bike trips. Each row includes start/end locations, timestamps, and rider type. The weather data contains daily average temperature.\n",
    "\n",
    "We'll group the bike data by day to compare with daily weather.\n"
   ]
  },
  {
   "cell_type": "markdown",
   "id": "e99ae27f-65ef-41bc-83ac-b73015e72d37",
   "metadata": {},
   "source": [
    "### Q1: What are the top 10 busiest Citi Bike start stations in NYC?\n",
    "\n",
    "This bar chart shows the most popular locations where rides begin. These hotspots may reflect commuter hubs or tourist areas.\n"
   ]
  },
  {
   "cell_type": "code",
   "execution_count": null,
   "id": "5e9397b2-c10f-418a-8bef-4c0813d74382",
   "metadata": {
    "jupyter": {
     "source_hidden": true
    }
   },
   "outputs": [],
   "source": [
    "import matplotlib.pyplot as plt\n",
    "\n",
    "plt.figure(figsize=(12, 6))\n",
    "plt.barh(top_10['Station'], top_10['Count'], color='skyblue')\n",
    "plt.gca().invert_yaxis()\n",
    "plt.title('Top 10 Most Popular Citi Bike Start Stations in NYC (2022)')\n",
    "plt.xlabel('Trip Count')\n",
    "plt.ylabel('Station')\n",
    "plt.tight_layout()\n",
    "plt.show()\n"
   ]
  },
  {
   "cell_type": "markdown",
   "id": "00eca6cc-38f0-4360-b05a-f488c44e5118",
   "metadata": {},
   "source": [
    "## 3. Trip Trends Over Time\n",
    "\n",
    "Group trips by day and explore overall trends."
   ]
  },
  {
   "cell_type": "markdown",
   "id": "42a83dba-e747-43c2-8357-92092d1bf6d1",
   "metadata": {},
   "source": [
    "### Q2: How does bike usage change throughout the year?\n",
    "\n",
    "This line chart highlights seasonal usage patterns. Warmer months tend to see more activity, while colder months show dips in ridership.\n"
   ]
  },
  {
   "cell_type": "code",
   "execution_count": null,
   "id": "524db981-bf4e-4c7d-befe-7df9e49bdd34",
   "metadata": {
    "jupyter": {
     "source_hidden": true
    }
   },
   "outputs": [],
   "source": [
    "import pandas as pd\n",
    "from collections import Counter\n",
    "import matplotlib.pyplot as plt\n",
    "\n",
    "file_path = '/Volumes/Untitled/CitiBikeData/combined_2022_trips.csv'\n",
    "\n",
    "# Prepare a counter for months\n",
    "month_counter = Counter()\n",
    "\n",
    "# Read and count in chunks\n",
    "for chunk in pd.read_csv(file_path, chunksize=100_000, usecols=['started_at']):\n",
    "    chunk['started_at'] = pd.to_datetime(chunk['started_at'], errors='coerce')\n",
    "    chunk = chunk.dropna(subset=['started_at'])\n",
    "    months = chunk['started_at'].dt.to_period('M')\n",
    "    month_counter.update(months)\n",
    "\n",
    "# Convert to DataFrame\n",
    "month_df = pd.DataFrame(month_counter.items(), columns=['Month', 'Trips'])\n",
    "month_df['Month'] = month_df['Month'].astype(str)\n",
    "month_df = month_df.sort_values('Month')\n",
    "\n",
    "# Plot\n",
    "plt.figure(figsize=(12, 6))\n",
    "plt.plot(month_df['Month'], month_df['Trips'], marker='o')\n",
    "plt.xticks(rotation=45)\n",
    "plt.title('Monthly Citi Bike Trips (2022)')\n",
    "plt.xlabel('Month')\n",
    "plt.ylabel('Trip Count')\n",
    "plt.tight_layout()\n",
    "plt.show()\n"
   ]
  },
  {
   "cell_type": "code",
   "execution_count": null,
   "id": "dec760c9-3007-448e-8777-9e758d4eaac4",
   "metadata": {
    "jupyter": {
     "outputs_hidden": true,
     "source_hidden": true
    }
   },
   "outputs": [],
   "source": [
    "import requests\n",
    "import json\n",
    "import pandas as pd\n",
    "from datetime import datetime\n",
    "\n",
    "# NOAA Token\n",
    "TOKEN = 'DpDSpJRqVfDXeauOxlkXFoxEHIOZwQBw'\n",
    "\n",
    "# Base URL and query params\n",
    "url = \"https://www.ncdc.noaa.gov/cdo-web/api/v2/data\"\n",
    "headers = {'token': TOKEN}\n",
    "params = {\n",
    "    'datasetid': 'GHCND',\n",
    "    'datatypeid': 'TAVG',\n",
    "    'stationid': 'GHCND:USW00014732',  # LaGuardia Airport station\n",
    "    'startdate': '2022-01-01',\n",
    "    'enddate': '2022-12-31',\n",
    "    'limit': 1000,\n",
    "    'units': 'metric'\n",
    "}\n",
    "\n",
    "# Make request\n",
    "response = requests.get(url, headers=headers, params=params)\n",
    "data = response.json()\n",
    "\n",
    "# Check result\n",
    "if 'results' not in data:\n",
    "    print(\"⚠️ No data returned. Double-check token or date range.\")\n",
    "else:\n",
    "    # Parse data into dataframe\n",
    "    results = data['results']\n",
    "    df_weather = pd.DataFrame({\n",
    "        'date': [datetime.strptime(item['date'], \"%Y-%m-%dT%H:%M:%S\") for item in results],\n",
    "        'avg_temp_C': [item['value'] / 10.0 for item in results]\n",
    "    })\n",
    "\n",
    "    # Save to CSV\n",
    "    df_weather.to_csv('laguardia_weather_2022.csv', index=False)\n",
    "    print(\"✅ Weather data saved as 'laguardia_weather_2022.csv'\")\n"
   ]
  },
  {
   "cell_type": "code",
   "execution_count": null,
   "id": "b0812aa8-2d81-4f57-bf05-c58f64f7c47c",
   "metadata": {
    "jupyter": {
     "source_hidden": true
    }
   },
   "outputs": [],
   "source": [
    "# Convert to datetime safely, coercing errors\n",
    "df_bike['date'] = pd.to_datetime(df_bike['started_at'], errors='coerce').dt.date\n",
    "\n",
    "# Drop rows where date conversion failed\n",
    "df_bike = df_bike.dropna(subset=['date'])\n"
   ]
  },
  {
   "cell_type": "code",
   "execution_count": null,
   "id": "6707a54b-0b0c-482c-a003-aa07e3e043fa",
   "metadata": {
    "jupyter": {
     "source_hidden": true
    }
   },
   "outputs": [],
   "source": [
    "import pandas as pd\n",
    "\n",
    "bike_path = '/Volumes/Untitled/CitiBikeData/combined_2022_trips.csv'\n",
    "\n",
    "# Output lists for all date-converted chunks\n",
    "chunk_dates = []\n",
    "\n",
    "# Process file in chunks\n",
    "for chunk in pd.read_csv(bike_path, usecols=['started_at'], chunksize=500_000):\n",
    "    # Try to convert to date safely\n",
    "    chunk['date'] = pd.to_datetime(chunk['started_at'], errors='coerce').dt.date\n",
    "    chunk_dates.append(chunk[['date']])\n",
    "\n",
    "# Combine the chunks\n",
    "df_bike_dates = pd.concat(chunk_dates)\n",
    "\n",
    "# Drop any rows with invalid dates\n",
    "df_bike_dates.dropna(inplace=True)\n",
    "\n",
    "# Check result\n",
    "print(df_bike_dates.info())\n",
    "print(df_bike_dates.head())\n"
   ]
  },
  {
   "cell_type": "code",
   "execution_count": null,
   "id": "462ff93e-a8ff-49aa-8223-93302c659acb",
   "metadata": {
    "jupyter": {
     "source_hidden": true
    }
   },
   "outputs": [],
   "source": [
    "# Group trips by date\n",
    "daily_trip_counts = df_bike_dates.groupby('date').size().reset_index(name='trip_count')\n",
    "\n",
    "# Check output\n",
    "print(daily_trip_counts.head())\n"
   ]
  },
  {
   "cell_type": "code",
   "execution_count": null,
   "id": "24aae901-38e5-40cf-ac49-8426643daf8b",
   "metadata": {
    "jupyter": {
     "outputs_hidden": true,
     "source_hidden": true
    }
   },
   "outputs": [],
   "source": [
    "import pandas as pd\n",
    "\n",
    "bike_path = '/Volumes/Untitled/CitiBikeData/combined_2022_trips.csv'\n",
    "\n",
    "# Prepare an empty list for grouped data\n",
    "chunk_daily_counts = []\n",
    "\n",
    "# Read and group each chunk\n",
    "for chunk in pd.read_csv(bike_path, chunksize=100_000, usecols=['started_at']):\n",
    "    chunk['date'] = pd.to_datetime(chunk['started_at'], errors='coerce').dt.date\n",
    "    chunk = chunk.dropna(subset=['date'])\n",
    "\n",
    "    # Group within this chunk\n",
    "    grouped = chunk.groupby('date').size().reset_index(name='trip_count')\n",
    "    chunk_daily_counts.append(grouped)\n",
    "\n",
    "# Combine all daily counts\n",
    "daily_trip_counts = pd.concat(chunk_daily_counts)\n",
    "\n",
    "# Group again to combine overlapping days across chunks\n",
    "final_daily_counts = daily_trip_counts.groupby('date').sum().reset_index()\n",
    "\n",
    "# Save to file for reuse\n",
    "final_daily_counts.to_csv('daily_trip_counts_2022.csv', index=False)\n",
    "print(\"✅ Aggregated daily counts saved.\")\n"
   ]
  },
  {
   "cell_type": "markdown",
   "id": "b5536e09-e870-4d17-9a23-b9077c8247c5",
   "metadata": {},
   "source": [
    "## 4. Weather Data Integration\n",
    "\n",
    "We bring in weather data (via NOAA API or downloaded CSV) and match it with trip data based on date.\n"
   ]
  },
  {
   "cell_type": "code",
   "execution_count": null,
   "id": "34db871a-242e-46bd-a5d0-fc50a3da21ba",
   "metadata": {},
   "outputs": [],
   "source": [
    "import pandas as pd\n",
    "\n",
    "# Load both datasets\n",
    "df_bike = pd.read_csv('daily_trip_counts_2022.csv')\n",
    "df_weather = pd.read_csv('laguardia_weather_2022.csv')\n",
    "\n",
    "# Ensure both 'date' columns are datetime\n",
    "df_bike['date'] = pd.to_datetime(df_bike['date'])\n",
    "df_weather['date'] = pd.to_datetime(df_weather['date'])\n",
    "\n",
    "# Merge on date\n",
    "merged = pd.merge(df_bike, df_weather, on='date', how='inner')\n",
    "\n",
    "# Save merged file (optional)\n",
    "merged.to_csv('bike_weather_2022.csv', index=False)\n",
    "\n",
    "# Preview\n",
    "print(merged.info())\n",
    "merged.head()\n"
   ]
  },
  {
   "cell_type": "markdown",
   "id": "a8787918-df84-47a2-a248-ce7751018a76",
   "metadata": {},
   "source": [
    "### Q3: Is there a relationship between temperature and ride volume?\n",
    "\n",
    "Two visualizations below examine this:\n",
    "- A **scatter plot** showing how temperature affects total daily trips.\n",
    "- A **dual-line chart** comparing daily temperature (scaled) with trip counts.\n",
    "\n",
    "The correlation coefficient of **0.86** suggests a strong positive relationship.\n"
   ]
  },
  {
   "cell_type": "code",
   "execution_count": null,
   "id": "0d39513d-544f-4aac-a4e1-a3fa7bd84fc4",
   "metadata": {
    "jupyter": {
     "source_hidden": true
    }
   },
   "outputs": [],
   "source": [
    "import matplotlib.pyplot as plt\n",
    "\n",
    "plt.figure(figsize=(12, 6))\n",
    "plt.scatter(merged['avg_temp_C'], merged['trip_count'], alpha=0.7)\n",
    "plt.title(\"Citi Bike Trip Counts vs. Temperature (2022)\")\n",
    "plt.xlabel(\"Average Temperature (°C)\")\n",
    "plt.ylabel(\"Trip Count\")\n",
    "plt.grid(True)\n",
    "plt.show()\n"
   ]
  },
  {
   "cell_type": "markdown",
   "id": "e545321f-6ca4-4e77-bd28-aa623ed7329b",
   "metadata": {},
   "source": [
    "## 5. Visualization: Trips vs Temperature\n",
    "\n",
    "Using a line chart, we show how temperature correlates with trip counts across the year.\n"
   ]
  },
  {
   "cell_type": "code",
   "execution_count": null,
   "id": "1a6f5e9d-2982-497c-bda7-263fc9d79f1d",
   "metadata": {
    "jupyter": {
     "source_hidden": true
    }
   },
   "outputs": [],
   "source": [
    "plt.figure(figsize=(14, 6))\n",
    "plt.plot(merged['date'], merged['trip_count'], label='Trips', color='blue')\n",
    "plt.plot(merged['date'], merged['avg_temp_C']*1000, label='Temp ×1000 (scaled)', color='orange', linestyle='--')\n",
    "plt.title(\"Daily Citi Bike Trips and Temperature Over Time\")\n",
    "plt.xlabel(\"Date\")\n",
    "plt.ylabel(\"Trip Count / Scaled Temp\")\n",
    "plt.legend()\n",
    "plt.tight_layout()\n",
    "plt.show()\n"
   ]
  },
  {
   "cell_type": "code",
   "execution_count": null,
   "id": "405c33a9-0f01-4c6c-a911-1f80edab3c31",
   "metadata": {},
   "outputs": [],
   "source": [
    "correlation = merged['trip_count'].corr(merged['avg_temp_C'])\n",
    "print(f\"Correlation between temperature and trip count: {correlation:.2f}\")\n",
    "\n"
   ]
  },
  {
   "cell_type": "code",
   "execution_count": null,
   "id": "02edd7a1-e50b-4b5f-89e2-ec4fdb576f07",
   "metadata": {
    "jupyter": {
     "outputs_hidden": true,
     "source_hidden": true
    }
   },
   "outputs": [],
   "source": [
    "top_routes = df.groupby(['start_station_name', 'end_station_name']).size().reset_index(name='trip_count')\n",
    "top_routes = top_routes.sort_values(by='trip_count', ascending=False).head(100)  # Top 100 busiest routes\n"
   ]
  },
  {
   "cell_type": "code",
   "execution_count": null,
   "id": "4403b9b8-b625-4149-a46c-01f887f5c2ba",
   "metadata": {
    "jupyter": {
     "outputs_hidden": true,
     "source_hidden": true
    }
   },
   "outputs": [],
   "source": [
    "top_routes = df_bike.groupby(['start_station_name', 'end_station_name']).size().reset_index(name='trip_count')\n",
    "top_routes = top_routes.sort_values(by='trip_count', ascending=False).head(100)\n"
   ]
  },
  {
   "cell_type": "code",
   "execution_count": null,
   "id": "e7050737-c602-4894-8438-20665ed2c31f",
   "metadata": {
    "jupyter": {
     "outputs_hidden": true,
     "source_hidden": true
    }
   },
   "outputs": [],
   "source": [
    "print(df_bike.columns)\n"
   ]
  },
  {
   "cell_type": "code",
   "execution_count": null,
   "id": "3c025110-88cc-4d78-a3ef-6e622c459ec1",
   "metadata": {
    "jupyter": {
     "outputs_hidden": true,
     "source_hidden": true
    }
   },
   "outputs": [],
   "source": [
    "top_routes = df_bike.groupby([correct_start_col, correct_end_col]).size().reset_index(name='trip_count')\n"
   ]
  },
  {
   "cell_type": "code",
   "execution_count": null,
   "id": "d755643d-1c15-4309-9ce9-0566c35a27c0",
   "metadata": {
    "jupyter": {
     "outputs_hidden": true,
     "source_hidden": true
    }
   },
   "outputs": [],
   "source": [
    "df_routes = pd.read_csv('/path/to/combined_2022_trips.csv', usecols=['start_station_name', 'end_station_name'], nrows=500_000)\n",
    "\n",
    "top_routes = df_routes.groupby(['start_station_name', 'end_station_name']).size().reset_index(name='trip_count')\n",
    "top_routes = top_routes.sort_values(by='trip_count', ascending=False).head(50)\n"
   ]
  },
  {
   "cell_type": "code",
   "execution_count": null,
   "id": "5f586255-e439-4f54-8358-3b9babee311e",
   "metadata": {
    "jupyter": {
     "source_hidden": true
    }
   },
   "outputs": [],
   "source": [
    "df_routes = pd.read_csv('/Volumes/Untitled/CitiBikeData/combined_2022_trips.csv', \n",
    "                        usecols=['start_station_name', 'end_station_name'], \n",
    "                        nrows=500_000)\n"
   ]
  },
  {
   "cell_type": "code",
   "execution_count": null,
   "id": "9c60d4ea-cc4c-4949-8203-383a67078666",
   "metadata": {
    "jupyter": {
     "source_hidden": true
    }
   },
   "outputs": [],
   "source": [
    "top_routes = df_routes.groupby(['start_station_name', 'end_station_name']).size().reset_index(name='trip_count')\n",
    "top_routes = top_routes.sort_values(by='trip_count', ascending=False).head(50)\n",
    "top_routes.head()\n"
   ]
  },
  {
   "cell_type": "code",
   "execution_count": null,
   "id": "011e8850-b091-472a-955e-f8d6b58c437a",
   "metadata": {
    "jupyter": {
     "outputs_hidden": true,
     "source_hidden": true
    }
   },
   "outputs": [],
   "source": [
    "station_coords = pd.read_csv('/Volumes/Untitled/CitiBikeData/combined_2022_trips.csv, \n",
    "                             usecols=['start_station_name' , 'start_lat', 'start_lng',\n",
    "                             'end_station_name', 'end_lat', end_lang'],\n",
    "                             nrows=5000_000)\n"
   ]
  },
  {
   "cell_type": "code",
   "execution_count": null,
   "id": "e02134b3-688c-46ff-94a3-201f91e5d499",
   "metadata": {
    "jupyter": {
     "source_hidden": true
    }
   },
   "outputs": [],
   "source": [
    "station_coords = pd.read_csv('/Volumes/Untitled/CitiBikeData/combined_2022_trips.csv',\n",
    "                             usecols=['start_station_name', 'start_lat', 'start_lng', \n",
    "                                      'end_station_name', 'end_lat', 'end_lng'],\n",
    "                             nrows=500_000)\n",
    "\n"
   ]
  },
  {
   "cell_type": "code",
   "execution_count": null,
   "id": "40991738-e79e-40ca-b7c8-b7b23e9e438a",
   "metadata": {
    "jupyter": {
     "source_hidden": true
    }
   },
   "outputs": [],
   "source": [
    "start_coords = station_coords[['start_station_name', 'start_lat', 'start_lng']].drop_duplicates()\n",
    "end_coords = station_coords[['end_station_name', 'end_lat', 'end_lng']].drop_duplicates()\n"
   ]
  },
  {
   "cell_type": "code",
   "execution_count": null,
   "id": "9fe1e5a9-5e30-4e7e-9812-87ca6f5e4f6b",
   "metadata": {},
   "outputs": [],
   "source": [
    "routes_geo = top_routes.merge(start_coords, on='start_station_name', how='left')\n",
    "routes_geo = routes_geo.merge(end_coords, on='end_station_name', how='left')\n"
   ]
  },
  {
   "cell_type": "markdown",
   "id": "7d62ffcd-099a-495f-bc18-c32f55c9508a",
   "metadata": {},
   "source": [
    "## What are the most common Citi Bike travel routes?\n",
    "Visualization: Geospatial map with arrows representing top 50 routes (using Folium and PolyLine).\n",
    "\n",
    "### Purpose:\n",
    "This map identifies the most frequently used start-to-end station paths across NYC.\n",
    "The arrow direction shows the travel flow, and the density helps spot potential infrastructure bottlenecks or commuter corridors.\n",
    "\n",
    "### Insight:\n",
    "Midtown Manhattan, Lower Manhattan, and parts of Long Island City show the most common travel patterns. Many trips appear to occur within neighborhood clusters, and some routes show direct cross-river connections into Queens.\n",
    "\n"
   ]
  },
  {
   "cell_type": "markdown",
   "id": "e836bf4e-867d-4748-aa36-2424335e7956",
   "metadata": {},
   "source": [
    "### Q4: What are the most common travel routes?\n",
    "\n",
    "This geospatial map plots the top station-to-station routes using directional arrows. It helps identify travel corridors and potential infrastructure bottlenecks.\n"
   ]
  },
  {
   "cell_type": "code",
   "execution_count": null,
   "id": "7593ad74-9ba5-4ef3-a2ee-381a01657c52",
   "metadata": {
    "jupyter": {
     "source_hidden": true
    }
   },
   "outputs": [],
   "source": [
    "import folium\n",
    "\n",
    "# Create base map centered on NYC\n",
    "m = folium.Map(location=[40.75, -73.98], zoom_start=12)\n",
    "\n",
    "# Add top routes as lines\n",
    "for _, row in routes_geo.iterrows():\n",
    "    folium.PolyLine(\n",
    "        locations=[(row['start_lat'], row['start_lng']), (row['end_lat'], row['end_lng'])],\n",
    "        color='blue',\n",
    "        weight=2 + row['trip_count'] / 100,  # thickness based on volume\n",
    "        opacity=0.6,\n",
    "        tooltip=f\"{row['start_station_name']} → {row['end_station_name']} ({row['trip_count']})\"\n",
    "    ).add_to(m)\n",
    "\n",
    "# Show map\n",
    "m\n"
   ]
  },
  {
   "cell_type": "markdown",
   "id": "d9a10b7e-b43a-4f61-bf62-9c7f8d7f4034",
   "metadata": {},
   "source": [
    "## 6. Summary and Insights\n",
    "\n",
    "Summarize findings: e.g., warmer days show more trips; rainy/cold days reduce usage."
   ]
  },
  {
   "cell_type": "markdown",
   "id": "72686e0a-3de8-4517-a2f0-c18c5a243aa5",
   "metadata": {},
   "source": [
    "## References\n",
    "\n",
    "- [Citi Bike Data](https://www.kaggle.com/datasets/leonczarlinski/citi-bike-nyc)\n",
    "- [NOAA Climate Data Online](https://www.ncei.noaa.gov/)\n"
   ]
  },
  {
   "cell_type": "code",
   "execution_count": null,
   "id": "f00267c8-9497-4bad-9541-83b2a1ce7357",
   "metadata": {},
   "outputs": [],
   "source": []
  }
 ],
 "metadata": {
  "kernelspec": {
   "display_name": "Python 3 (ipykernel)",
   "language": "python",
   "name": "python3"
  },
  "language_info": {
   "codemirror_mode": {
    "name": "ipython",
    "version": 3
   },
   "file_extension": ".py",
   "mimetype": "text/x-python",
   "name": "python",
   "nbconvert_exporter": "python",
   "pygments_lexer": "ipython3",
   "version": "3.8.2"
  }
 },
 "nbformat": 4,
 "nbformat_minor": 5
}
